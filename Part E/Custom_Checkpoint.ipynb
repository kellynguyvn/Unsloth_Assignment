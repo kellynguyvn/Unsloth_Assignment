{
  "nbformat": 4,
  "nbformat_minor": 0,
  "metadata": {
    "colab": {
      "provenance": []
    },
    "kernelspec": {
      "name": "python3",
      "display_name": "Python 3"
    },
    "language_info": {
      "name": "python"
    }
  },
  "cells": [
    {
      "cell_type": "markdown",
      "source": [
        "#Custom Checkpoint"
      ],
      "metadata": {
        "id": "RfrHUt7VPeb9"
      }
    },
    {
      "cell_type": "code",
      "execution_count": null,
      "metadata": {
        "id": "I9lf_qPePczL"
      },
      "outputs": [],
      "source": [
        "# Step 1: Setup Environment\n",
        "# Install Hugging Face Transformers library and other necessary libraries\n",
        "!pip install transformers datasets torch\n",
        "\n",
        "# Import Libraries\n",
        "import torch\n",
        "from transformers import AutoTokenizer, AutoModelForCausalLM, Trainer, TrainingArguments\n",
        "from datasets import load_dataset\n",
        "\n",
        "# Step 2: Load and Prepare the Dataset\n",
        "# Load a general conversational dataset (e.g., DailyDialog)\n",
        "dataset = load_dataset(\"daily_dialog\")\n",
        "\n",
        "# Split dataset into train and validation\n",
        "train_testvalid = dataset['train'].train_test_split(test_size=0.1)\n",
        "train_dataset = train_testvalid['train']\n",
        "val_dataset = train_testvalid['test']\n",
        "\n",
        "# Preprocess Dataset\n",
        "def tokenize_function(example):\n",
        "    return tokenizer(example['dialogue'], padding=\"max_length\", truncation=True, max_length=128)\n",
        "\n",
        "# Step 3: Load Tokenizer and Model\n",
        "# Load from a custom checkpoint if available\n",
        "model_name = \"gpt2\"\n",
        "custom_checkpoint = \"path/to/your/custom_checkpoint\"\n",
        "\n",
        "tokenizer = AutoTokenizer.from_pretrained(model_name)\n",
        "model = AutoModelForCausalLM.from_pretrained(custom_checkpoint)\n",
        "\n",
        "# Tokenize datasets\n",
        "train_dataset = train_dataset.map(tokenize_function, batched=True)\n",
        "val_dataset = val_dataset.map(tokenize_function, batched=True)\n",
        "\n",
        "# Set Format to PyTorch\n",
        "def set_format_to_torch(dataset):\n",
        "    dataset.set_format(type='torch', columns=['input_ids', 'attention_mask'], output_all_columns=True)\n",
        "\n",
        "set_format_to_torch(train_dataset)\n",
        "set_format_to_torch(val_dataset)\n",
        "\n",
        "# Step 4: Set Training Arguments and Fine-tune the Model\n",
        "training_args = TrainingArguments(\n",
        "    output_dir=\"./results\",\n",
        "    evaluation_strategy=\"epoch\",\n",
        "    learning_rate=5e-5,\n",
        "    per_device_train_batch_size=8,\n",
        "    per_device_eval_batch_size=8,\n",
        "    num_train_epochs=3,\n",
        "    weight_decay=0.01,\n",
        "    save_total_limit=2,\n",
        "    logging_dir='./logs',\n",
        "    logging_steps=10,\n",
        ")\n",
        "\n",
        "trainer = Trainer(\n",
        "    model=model,\n",
        "    args=training_args,\n",
        "    train_dataset=train_dataset,\n",
        "    eval_dataset=val_dataset\n",
        ")\n",
        "\n",
        "# Fine-tune the model\n",
        "trainer.train()\n",
        "\n",
        "# Step 5: Save the Model\n",
        "trainer.save_model(\"custom-conversational-model\")\n",
        "\n",
        "# Step 6: Test the Model\n",
        "# Function to chat with the fine-tuned model\n",
        "def generate_response(input_text):\n",
        "    input_ids = tokenizer.encode(input_text, return_tensors='pt')\n",
        "    output = model.generate(input_ids, max_length=50, num_return_sequences=1)\n",
        "    return tokenizer.decode(output[0], skip_special_tokens=True)\n",
        "\n",
        "# Example Usage\n",
        "user_input = \"How is the weather today?\"\n",
        "response = generate_response(user_input)\n",
        "print(response)\n"
      ]
    }
  ]
}